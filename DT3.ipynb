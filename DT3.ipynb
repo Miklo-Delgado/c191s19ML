{
 "cells": [
  {
   "cell_type": "markdown",
   "metadata": {},
   "source": [
    "# Decision Trees 3"
   ]
  },
  {
   "cell_type": "code",
   "execution_count": 17,
   "metadata": {},
   "outputs": [
    {
     "name": "stdout",
     "output_type": "stream",
     "text": [
      "56000.0\n"
     ]
    }
   ],
   "source": [
    "from __future__ import division, unicode_literals\n",
    "\n",
    "L = [5554, 6296, 5590, 5707, 5496, 5027, 5469, 5817, 5434, 5610]\n",
    "N = sum(L)*1.0\n",
    "print N"
   ]
  },
  {
   "cell_type": "code",
   "execution_count": 6,
   "metadata": {},
   "outputs": [
    {
     "name": "stdout",
     "output_type": "stream",
     "text": [
      "0.0991785714286\n",
      "[0.09917857142857144, 0.11242857142857143, 0.09982142857142857, 0.10191071428571429, 0.09814285714285714, 0.08976785714285715, 0.09766071428571428, 0.103875, 0.09703571428571428, 0.10017857142857142]\n"
     ]
    }
   ],
   "source": [
    "P = [i/N for i in L]\n",
    "print P[0]\n",
    "print P"
   ]
  },
  {
   "cell_type": "code",
   "execution_count": 24,
   "metadata": {},
   "outputs": [
    {
     "name": "stdout",
     "output_type": "stream",
     "text": [
      "[0.08934218239795919, 0.09978838775510204, 0.08985711096938775, 0.0915249205994898, 0.08851083673469388, 0.08170958896683674, 0.08812309917091836, 0.093084984375, 0.0876197844387755, 0.09014282525510203]\n",
      "0.899703720663\n"
     ]
    }
   ],
   "source": [
    "# GINI Calc\n",
    "G = [p*(1-p) for p in P]\n",
    "Gini = lambda Pl: sum([p * (1-p) for p in Pl])\n",
    "\n",
    "print G\n",
    "print sum(G)"
   ]
  },
  {
   "cell_type": "code",
   "execution_count": 45,
   "metadata": {},
   "outputs": [
    {
     "name": "stdout",
     "output_type": "stream",
     "text": [
      "[-0.33064427312820166, -0.3544782218591436, -0.3318570019990944, -0.3357573179117817, -0.32867777065691334, -0.3121818376859514, -0.32775696100210644, -0.3393678953085048, -0.32655820530729623, -0.3325281569350721]\n",
      "E:  -697386.567636\n",
      "-697386.567636\n"
     ]
    }
   ],
   "source": [
    "# Entropy\n",
    "import math\n",
    "E = [p * math.log(p, 2) for p in P]\n",
    "print E\n",
    "\n",
    "Entropy = lambda Pl: -1 * sum([p * math.log(p, 2) if p else 0 for p in Pl]) \n",
    "print \"E: \", Entropy(L)\n",
    "\n",
    "print -1 * sum([p * math.log(p, 2) for p in L])"
   ]
  },
  {
   "cell_type": "code",
   "execution_count": 28,
   "metadata": {},
   "outputs": [
    {
     "name": "stdout",
     "output_type": "stream",
     "text": [
      "[0.09917857142857144, 0.11242857142857143, 0.09982142857142857, 0.10191071428571429, 0.09814285714285714, 0.08976785714285715, 0.09766071428571428, 0.103875, 0.09703571428571428, 0.10017857142857142]\n",
      "3.31980764179\n",
      "Before:  0.899703720663\n",
      "56000\n",
      "G1:  0.840511107274\n",
      "G2:  0.873338220746\n"
     ]
    }
   ],
   "source": [
    "Probs = lambda Lx: [i/sum(Lx) for i in Lx]\n",
    "L1 =[5371, 195, 779, 3959, 855, 3089, 1360, 3897, 540, 1770]\n",
    "L2 = [183, 6101, 4811, 1748, 4641, 1938, 4109, 1920, 4894, 3840]\n",
    "\n",
    "print Probs(L)\n",
    "print Entropy(Probs(L))\n",
    "print \"Before: \",Gini(Probs(L))\n",
    "print sum(L1) + sum(L2)\n",
    "\n",
    "print \"G1: \", Gini(Probs(L1))\n",
    "print \"G2: \", Gini(Probs(L2))"
   ]
  },
  {
   "cell_type": "code",
   "execution_count": 29,
   "metadata": {},
   "outputs": [
    {
     "name": "stdout",
     "output_type": "stream",
     "text": [
      "[0.09917857142857144, 0.11242857142857143, 0.09982142857142857, 0.10191071428571429, 0.09814285714285714, 0.08976785714285715, 0.09766071428571428, 0.103875, 0.09703571428571428, 0.10017857142857142]\n",
      "Before:  3.31980764179\n",
      "56000\n",
      "G1:  2.87924904528\n",
      "G2:  3.08392208856\n"
     ]
    }
   ],
   "source": [
    "print Probs(L)\n",
    "print \"Before: \",Entropy(Probs(L))\n",
    "print sum(L1) + sum(L2)\n",
    "\n",
    "print \"G1: \", Entropy(Probs(L1))\n",
    "print \"G2: \", Entropy(Probs(L2))"
   ]
  },
  {
   "cell_type": "code",
   "execution_count": 33,
   "metadata": {},
   "outputs": [
    {
     "name": "stdout",
     "output_type": "stream",
     "text": [
      "Before 0.899703720663\n",
      "After:  0.860550301453\n",
      "Information Gain:  0.03915341921\n"
     ]
    }
   ],
   "source": [
    "#print sum(L1)/sum(L)\n",
    "#print sum(L2)/sum(L)\n",
    "\n",
    "Split = Gini(Probs(L1))*sum(L1)/sum(L) + Gini(Probs(L2))*sum(L2)/sum(L)\n",
    "Ig = Gini(Probs(L)) - Split\n",
    "print \"Before\", Gini(Probs(L))\n",
    "print \"After: \", Split\n",
    "print \"Information Gain: \",Ig"
   ]
  },
  {
   "cell_type": "code",
   "execution_count": 36,
   "metadata": {},
   "outputs": [
    {
     "name": "stdout",
     "output_type": "stream",
     "text": [
      "Before 3.31980764179\n",
      "Split Purity:  2.87924904528 3.08392208856\n",
      "After:  3.00419097358\n",
      "Information Gain:  0.315616668218\n"
     ]
    }
   ],
   "source": [
    "Purity = Entropy\n",
    "Split = Purity(Probs(L1))*sum(L1)/sum(L) + Purity(Probs(L2))*sum(L2)/sum(L)\n",
    "Ig = Purity(Probs(L)) - Split\n",
    "print \"Before\", Purity(Probs(L))\n",
    "print \"Split Purity: \", Purity(Probs(L1)), Purity(Probs(L2))\n",
    "print \"After: \", Split\n",
    "print \"Information Gain: \",Ig"
   ]
  },
  {
   "cell_type": "code",
   "execution_count": 46,
   "metadata": {},
   "outputs": [
    {
     "name": "stdout",
     "output_type": "stream",
     "text": [
      "Before 1.0\n",
      "Split Entropy:  [-0.0, -0.0, 0.15304930567574826]\n"
     ]
    }
   ],
   "source": [
    "Purity = Entropy\n",
    "Restaurant = [6, 6]\n",
    "Split = [ [2, 0], [0,4], [4, 2]]\n",
    "SplitEntropy = [ Purity(Probs(l))/sum(l) for l in Split ]\n",
    "print \"Before\", Purity(Probs(Restaurant))\n",
    "print \"Split Entropy: \", SplitEntropy\n",
    "\n"
   ]
  },
  {
   "cell_type": "code",
   "execution_count": 49,
   "metadata": {},
   "outputs": [
    {
     "name": "stdout",
     "output_type": "stream",
     "text": [
      "0.970950594455\n"
     ]
    }
   ],
   "source": [
    "Binary = [3, 2]\n",
    "BinarySplit1=[[1,0], [2, 2]]\n",
    "BinarySplit2=[[2,0], [1,2]]\n",
    "BinarySplit3=[[2,1], [1,1]]\n",
    "print Entropy(Probs(Binary))"
   ]
  }
 ],
 "metadata": {
  "kernelspec": {
   "display_name": "Python 2",
   "language": "python",
   "name": "python2"
  },
  "language_info": {
   "codemirror_mode": {
    "name": "ipython",
    "version": 2
   },
   "file_extension": ".py",
   "mimetype": "text/x-python",
   "name": "python",
   "nbconvert_exporter": "python",
   "pygments_lexer": "ipython2",
   "version": "2.7.15"
  }
 },
 "nbformat": 4,
 "nbformat_minor": 2
}
