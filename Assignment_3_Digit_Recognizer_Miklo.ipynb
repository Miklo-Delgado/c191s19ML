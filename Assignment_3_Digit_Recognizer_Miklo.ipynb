{
 "cells": [
  {
   "cell_type": "code",
   "execution_count": 181,
   "metadata": {},
   "outputs": [],
   "source": [
    "# To support both python 2 and python 3\n",
    "from __future__ import division, print_function, unicode_literals\n",
    "\n",
    "# Common imports\n",
    "import numpy as np\n",
    "\n",
    "#for my random attempt\n",
    "from random import randint\n",
    "\n",
    "# to make this notebook's output stable across runs\n",
    "np.random.seed(42)\n",
    "\n",
    "# To plot pretty figures\n",
    "%matplotlib inline\n",
    "import matplotlib\n",
    "import matplotlib.pyplot as plt\n",
    "\n",
    "import pandas as pd"
   ]
  },
  {
   "cell_type": "code",
   "execution_count": 182,
   "metadata": {},
   "outputs": [
    {
     "name": "stdout",
     "output_type": "stream",
     "text": [
      "<class 'pandas.core.frame.DataFrame'>\n",
      "RangeIndex: 42000 entries, 0 to 41999\n",
      "Columns: 785 entries, label to pixel783\n",
      "dtypes: int64(785)\n",
      "memory usage: 251.5 MB\n"
     ]
    }
   ],
   "source": [
    "mnist = pd.read_csv('datasets/digit_recognizer/train.csv')\n",
    "mnist.info()"
   ]
  },
  {
   "cell_type": "code",
   "execution_count": 183,
   "metadata": {},
   "outputs": [
    {
     "name": "stdout",
     "output_type": "stream",
     "text": [
      "   label  pixel0  pixel1  pixel2  pixel3  pixel4  pixel5  pixel6  pixel7  \\\n",
      "0      1       0       0       0       0       0       0       0       0   \n",
      "1      0       0       0       0       0       0       0       0       0   \n",
      "2      1       0       0       0       0       0       0       0       0   \n",
      "3      4       0       0       0       0       0       0       0       0   \n",
      "\n",
      "   pixel8    ...     pixel774  pixel775  pixel776  pixel777  pixel778  \\\n",
      "0       0    ...            0         0         0         0         0   \n",
      "1       0    ...            0         0         0         0         0   \n",
      "2       0    ...            0         0         0         0         0   \n",
      "3       0    ...            0         0         0         0         0   \n",
      "\n",
      "   pixel779  pixel780  pixel781  pixel782  pixel783  \n",
      "0         0         0         0         0         0  \n",
      "1         0         0         0         0         0  \n",
      "2         0         0         0         0         0  \n",
      "3         0         0         0         0         0  \n",
      "\n",
      "[4 rows x 785 columns]\n"
     ]
    }
   ],
   "source": [
    "print(mnist.head(4))"
   ]
  },
  {
   "cell_type": "code",
   "execution_count": 184,
   "metadata": {},
   "outputs": [
    {
     "name": "stdout",
     "output_type": "stream",
     "text": [
      "pixel0    0\n",
      "pixel1    0\n",
      "pixel2    0\n",
      "pixel3    0\n",
      "pixel4    0\n",
      "Name: 1, dtype: int64\n"
     ]
    },
    {
     "data": {
      "image/png": "[encoded data removed]",
      "text/plain": [
       "<Figure size 432x288 with 1 Axes>"
      ]
     },
     "metadata": {
      "needs_background": "light"
     },
     "output_type": "display_data"
    },
    {
     "name": "stdout",
     "output_type": "stream",
     "text": [
      "Index([u'label', u'pixel0', u'pixel1', u'pixel2', u'pixel3', u'pixel4',\n",
      "       u'pixel5', u'pixel6', u'pixel7', u'pixel8',\n",
      "       ...\n",
      "       u'pixel774', u'pixel775', u'pixel776', u'pixel777', u'pixel778',\n",
      "       u'pixel779', u'pixel780', u'pixel781', u'pixel782', u'pixel783'],\n",
      "      dtype='object', length=785)\n"
     ]
    },
    {
     "data": {
      "image/png": "[encoded data removed]",
      "text/plain": [
       "<Figure size 432x288 with 1 Axes>"
      ]
     },
     "metadata": {
      "needs_background": "light"
     },
     "output_type": "display_data"
    }
   ],
   "source": [
    "# print one number\n",
    "myNumber = mnist.iloc[1,1:]\n",
    "print (myNumber[:5])\n",
    "myNumber=myNumber.values.reshape((28,28))\n",
    "plt.imshow(myNumber, cmap = matplotlib.cm.binary,\n",
    "           interpolation=\"nearest\")\n",
    "plt.axis(\"off\")\n",
    "plt.show()\n",
    "mnist['label'].hist()\n",
    "print(mnist.columns)"
   ]
  },
  {
   "cell_type": "code",
   "execution_count": 185,
   "metadata": {},
   "outputs": [
    {
     "name": "stdout",
     "output_type": "stream",
     "text": [
      "\n",
      "Training Percentages:\n",
      "\n",
      "0.8\n",
      "0.8\n",
      "(33600, 784)\n"
     ]
    }
   ],
   "source": [
    "from sklearn.model_selection import train_test_split\n",
    "\n",
    "train_X, test_X, train_Y, test_Y = train_test_split(mnist.iloc[:,1:], mnist.iloc[:,0], test_size=0.2, random_state=42)\n",
    "\n",
    "print( \"\\nTraining Percentages:\\n\" )\n",
    "print(train_X.shape[0]/len(mnist.iloc[:,1:]))\n",
    "print(train_Y.shape[0]/len(mnist.iloc[:,1:]))\n",
    "print( train_X.shape )"
   ]
  },
  {
   "cell_type": "code",
   "execution_count": 186,
   "metadata": {},
   "outputs": [
    {
     "name": "stdout",
     "output_type": "stream",
     "text": [
      "pixel0      0\n",
      "pixel1      0\n",
      "pixel2      0\n",
      "pixel3      0\n",
      "pixel4      0\n",
      "pixel5      0\n",
      "pixel6      0\n",
      "pixel7      0\n",
      "pixel8      0\n",
      "pixel9      0\n",
      "pixel10     0\n",
      "pixel11     0\n",
      "pixel12     0\n",
      "pixel13     0\n",
      "pixel14     0\n",
      "pixel15     0\n",
      "pixel16     0\n",
      "pixel17     0\n",
      "pixel18     0\n",
      "pixel19     0\n",
      "pixel20     0\n",
      "pixel21     0\n",
      "pixel22     0\n",
      "pixel23     0\n",
      "pixel24     0\n",
      "pixel25     0\n",
      "pixel26     0\n",
      "pixel27     0\n",
      "pixel28     0\n",
      "pixel29     0\n",
      "           ..\n",
      "pixel754    0\n",
      "pixel755    0\n",
      "pixel756    0\n",
      "pixel757    0\n",
      "pixel758    0\n",
      "pixel759    0\n",
      "pixel760    0\n",
      "pixel761    0\n",
      "pixel762    0\n",
      "pixel763    0\n",
      "pixel764    0\n",
      "pixel765    0\n",
      "pixel766    0\n",
      "pixel767    0\n",
      "pixel768    0\n",
      "pixel769    0\n",
      "pixel770    0\n",
      "pixel771    0\n",
      "pixel772    0\n",
      "pixel773    0\n",
      "pixel774    0\n",
      "pixel775    0\n",
      "pixel776    0\n",
      "pixel777    0\n",
      "pixel778    0\n",
      "pixel779    0\n",
      "pixel780    0\n",
      "pixel781    0\n",
      "pixel782    0\n",
      "pixel783    0\n",
      "Name: 28009, Length: 784, dtype: int64\n",
      "8\n"
     ]
    }
   ],
   "source": [
    "\n",
    "# No shaping\n",
    "myNumber = train_X.iloc[5]\n",
    "myNumberLabel = train_Y.iloc[5]\n",
    "myNumber2 = train_X.iloc[7]\n",
    "myNumberLabel2 = train_Y.iloc[7]\n",
    "print (myNumber)\n",
    "print (myNumberLabel)"
   ]
  },
  {
   "cell_type": "code",
   "execution_count": 187,
   "metadata": {},
   "outputs": [
    {
     "name": "stdout",
     "output_type": "stream",
     "text": [
      "(28L, 28L)\n",
      "0 0 0 0 0 0 0 0 0 0 0 0 0 0 0 0 0 0 0 0 0 0 0 0 0 0 0 0\n",
      "0 0 0 0 0 0 0 0 0 0 0 0 0 0 0 0 0 0 0 0 0 0 0 0 0 0 0 0\n",
      "0 0 0 0 0 0 0 0 0 0 0 0 0 0 0 0 0 0 0 0 0 0 0 0 0 0 0 0\n",
      "0 0 0 0 0 0 0 0 0 0 0 0 0 0 0 0 0 0 0 0 0 0 0 0 0 0 0 0\n",
      "0 0 0 0 0 0 0 0 0 0 0 0 0 0 0 0 0 0 0 0 0 0 0 0 0 0 0 0\n",
      "0 0 0 0 0 0 0 0 0 0 86 170 170 198 170 170 114 57 0 0 0 0 0 0 0 0 0 0\n",
      "0 0 0 0 0 0 0 0 0 114 255 255 255 255 255 255 255 255 226 29 0 0 0 0 0 0 0 0\n",
      "0 0 0 0 0 0 0 0 86 255 255 57 29 0 114 198 255 255 255 255 86 0 0 0 0 0 0 0\n",
      "0 0 0 0 0 0 0 0 226 255 114 0 0 0 0 0 29 86 198 255 255 0 0 0 0 0 0 0\n",
      "0 0 0 0 0 0 0 86 255 114 0 0 0 0 0 0 0 0 57 255 255 0 0 0 0 0 0 0\n",
      "0 0 0 0 0 0 0 141 255 57 0 0 0 0 0 0 0 0 0 198 255 57 0 0 0 0 0 0\n",
      "0 0 0 0 0 0 0 255 255 0 0 0 0 0 0 0 0 0 0 170 255 29 0 0 0 0 0 0\n",
      "0 0 0 0 0 0 0 198 255 86 0 0 0 86 170 226 170 57 114 255 198 0 0 0 0 0 0 0\n",
      "0 0 0 0 0 0 0 57 255 255 198 114 198 255 255 255 255 255 255 255 57 0 0 0 0 0 0 0\n",
      "0 0 0 0 0 0 0 0 170 255 255 255 255 255 255 255 255 255 255 226 86 0 0 0 0 0 0 0\n",
      "0 0 0 0 0 0 0 0 0 86 255 255 255 255 255 114 170 198 141 255 255 57 0 0 0 0 0 0\n",
      "0 0 0 0 0 0 0 0 0 198 255 255 114 86 29 0 0 0 0 170 255 255 0 0 0 0 0 0\n",
      "0 0 0 0 0 0 0 0 0 255 255 0 0 0 0 0 0 0 0 29 255 255 114 0 0 0 0 0\n",
      "0 0 0 0 0 0 0 0 0 255 255 0 0 0 0 0 0 0 0 0 141 255 226 0 0 0 0 0\n",
      "0 0 0 0 0 0 0 0 0 255 255 29 0 0 0 0 0 0 0 0 29 255 255 0 0 0 0 0\n",
      "0 0 0 0 0 0 0 0 0 255 255 198 0 0 0 0 0 0 0 0 114 255 170 0 0 0 0 0\n",
      "0 0 0 0 0 0 0 0 0 198 255 255 226 86 86 86 86 141 170 255 255 226 0 0 0 0 0 0\n",
      "0 0 0 0 0 0 0 0 0 0 226 255 255 255 255 255 255 255 255 255 226 29 0 0 0 0 0 0\n",
      "0 0 0 0 0 0 0 0 0 0 29 198 255 255 255 255 255 141 86 0 0 0 0 0 0 0 0 0\n",
      "0 0 0 0 0 0 0 0 0 0 0 0 29 170 170 86 86 0 0 0 0 0 0 0 0 0 0 0\n",
      "0 0 0 0 0 0 0 0 0 0 0 0 0 0 0 0 0 0 0 0 0 0 0 0 0 0 0 0\n",
      "0 0 0 0 0 0 0 0 0 0 0 0 0 0 0 0 0 0 0 0 0 0 0 0 0 0 0 0\n",
      "0 0 0 0 0 0 0 0 0 0 0 0 0 0 0 0 0 0 0 0 0 0 0 0 0 0 0 0\n"
     ]
    }
   ],
   "source": [
    "## Shape it into the 28x28 image.\n",
    "myNumber = myNumber.values.reshape((28,28))\n",
    "myNumber2 = myNumber2.values.reshape((28,28))\n",
    "print(myNumber.shape)\n",
    "for x in myNumber: print (' '.join('%s'%n for n in x))"
   ]
  },
  {
   "cell_type": "code",
   "execution_count": 188,
   "metadata": {},
   "outputs": [
    {
     "data": {
      "image/png": "[encoded data removed]",
      "text/plain": [
       "<Figure size 432x288 with 1 Axes>"
      ]
     },
     "metadata": {
      "needs_background": "light"
     },
     "output_type": "display_data"
    },
    {
     "name": "stdout",
     "output_type": "stream",
     "text": [
      "8\n"
     ]
    }
   ],
   "source": [
    "plt.imshow(myNumber, cmap = matplotlib.cm.binary,\n",
    "           interpolation=\"nearest\")\n",
    "plt.axis(\"off\")\n",
    "plt.show()\n",
    "print (myNumberLabel)"
   ]
  },
  {
   "cell_type": "code",
   "execution_count": 189,
   "metadata": {},
   "outputs": [
    {
     "name": "stdout",
     "output_type": "stream",
     "text": [
      "Accuracy on Training:  0.33681547619\n",
      "Accuracy on Test:  0.342738095238\n",
      "Prediction on myNumber: 3\n"
     ]
    }
   ],
   "source": [
    "from sklearn.tree import DecisionTreeClassifier\n",
    "\"\"\"\n",
    "With a deaper depth in the decision tree the prediction becomes\n",
    "a lot higher as we can see from the percentage difference in the max_depth\n",
    "of 2 and the max depth at 9.\n",
    "\"\"\"\n",
    "classifier = DecisionTreeClassifier(max_depth=2)\n",
    "classifier.fit(train_X,train_Y)\n",
    "y_pred = classifier.predict(train_X)\n",
    "print (\"Accuracy on Training: \",sum(y_pred==train_Y)/len(train_Y))\n",
    "\n",
    "y_pred = classifier.predict(test_X)\n",
    "print (\"Accuracy on Test: \",sum(y_pred==test_Y)/len(test_Y))\n",
    "myNumber = myNumber.reshape(1,-1)\n",
    "print ('Prediction on myNumber: %i'%classifier.predict(myNumber))"
   ]
  },
  {
   "cell_type": "code",
   "execution_count": 190,
   "metadata": {},
   "outputs": [
    {
     "name": "stdout",
     "output_type": "stream",
     "text": [
      "Accuracy on Training:  0.873928571429\n",
      "Accuracy on Test:  0.834761904762\n",
      "Prediction on myNumber: 8\n"
     ]
    }
   ],
   "source": [
    "classifier = DecisionTreeClassifier(max_depth=9)\n",
    "classifier.fit(train_X,train_Y)\n",
    "y_pred = classifier.predict(train_X)\n",
    "print (\"Accuracy on Training: \",sum(y_pred==train_Y)/len(train_Y))\n",
    "\n",
    "y_pred = classifier.predict(test_X)\n",
    "print (\"Accuracy on Test: \",sum(y_pred==test_Y)/len(test_Y))\n",
    "myNumber = myNumber.reshape(1,-1)\n",
    "print ('Prediction on myNumber: %i'%classifier.predict(myNumber))"
   ]
  },
  {
   "cell_type": "code",
   "execution_count": 191,
   "metadata": {},
   "outputs": [
    {
     "name": "stdout",
     "output_type": "stream",
     "text": [
      "<class 'pandas.core.frame.DataFrame'>\n",
      "RangeIndex: 28000 entries, 0 to 27999\n",
      "Columns: 784 entries, pixel0 to pixel783\n",
      "dtypes: int64(784)\n",
      "memory usage: 167.5 MB\n",
      "Example of random number:  0\n",
      "         label\n",
      "ImageId       \n",
      "1            0\n",
      "2            0\n",
      "3            0\n",
      "4            0\n",
      "5            0\n",
      "6            0\n",
      "7            0\n",
      "8            0\n",
      "9            0\n",
      "10           0\n",
      "11           0\n",
      "12           0\n",
      "13           0\n",
      "14           0\n",
      "15           0\n",
      "16           0\n",
      "17           0\n",
      "18           0\n",
      "19           0\n",
      "20           0\n"
     ]
    }
   ],
   "source": [
    "mnist_test = pd.read_csv('datasets/digit_recognizer/test.csv')\n",
    "mnist_test.info()\n",
    "\n",
    "#mnist_test['label']= mnist_test.label.apply(lambda x: randint(0, 9)) #this was another attempt at changing that did not work\n",
    "mnist_test['label'] = randint(0,9)\n",
    "\"\"\"\n",
    "I wasn't to sure how to really use the desicion tree predictions\n",
    "to have them give the label it's numbered guess so I rather than \n",
    "just guessing all numbers to be 0 and setting lable to that I wanted\n",
    "to see how well just a completly random prediction would work by\n",
    "setting up label to be a number from 0-9. Unfortunatlly the label\n",
    "would not set to the random number and would stay 0\n",
    "\"\"\"\n",
    "print(\"Example of random number: \",randint(0,9))\n",
    "\n",
    "mnist_test.index+=1\n",
    "mnist_test.index.name='ImageId'\n",
    "mnist_test.columns=mnist.columns\n",
    "mnist_test['label'].to_csv('datasets/digit_recognizer/miklo_submission.csv', index=True, header=True)\n",
    "#I also print the head to 20 to see if the label actually changed to random numbers\n",
    "print(mnist_test[['label']].head(20))"
   ]
  }
 ],
 "metadata": {
  "kernelspec": {
   "display_name": "'Python Interactive'",
   "language": "python",
   "name": "99332c2c-8158-4f31-823e-b4617d206a89"
  },
  "language_info": {
   "codemirror_mode": {
    "name": "ipython",
    "version": 2
   },
   "file_extension": ".py",
   "mimetype": "text/x-python",
   "name": "python",
   "nbconvert_exporter": "python",
   "pygments_lexer": "ipython2",
   "version": "2.7.15"
  }
 },
 "nbformat": 4,
 "nbformat_minor": 2
}
